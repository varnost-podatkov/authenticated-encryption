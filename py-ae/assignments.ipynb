{
 "cells": [
  {
   "cell_type": "markdown",
   "metadata": {},
   "source": [
    "# Overjeno šifriranje\n",
    "\n",
    "Cilji laboratorijske vaje so sledeči:\n",
    "- TODO"
   ]
  },
  {
   "cell_type": "code",
   "execution_count": 47,
   "metadata": {
    "tags": []
   },
   "outputs": [],
   "source": [
    "import os\n",
    "import time\n",
    "import base64\n",
    "from cryptography.hazmat.primitives.ciphers import Cipher, algorithms, modes\n",
    "from cryptography.hazmat.primitives import hashes, hmac, padding"
   ]
  },
  {
   "cell_type": "code",
   "execution_count": 48,
   "metadata": {
    "tags": []
   },
   "outputs": [],
   "source": [
    "def fernet_gen_key():\n",
    "    return base64.urlsafe_b64encode(os.urandom(32))"
   ]
  },
  {
   "cell_type": "code",
   "execution_count": 49,
   "metadata": {
    "tags": []
   },
   "outputs": [],
   "source": [
    "def fernet_encrypt(key, message):\n",
    "    # unpack and decode keys\n",
    "    k_mac, k_enc = base64.urlsafe_b64decode(key)[:16], base64.urlsafe_b64decode(key)[16:]    \n",
    "    \n",
    "    version = (128).to_bytes(1, byteorder='big')\n",
    "    timestamp = int(time.time()).to_bytes(8, byteorder='big')\n",
    "    iv = os.urandom(16)\n",
    "            \n",
    "    # padding\n",
    "    padder = padding.PKCS7(128).padder() # CBC padding\n",
    "    padded_msg = padder.update(message) + padder.finalize()\n",
    "    \n",
    "    # encryption\n",
    "    enc = Cipher(algorithms.AES(k_enc), modes.CBC(iv)).encryptor() # AES-CBC\n",
    "    ct = enc.update(padded_msg) + enc.finalize()\n",
    "    \n",
    "    # mac\n",
    "    h = hmac.HMAC(k_mac, hashes.SHA256()) # hmac\n",
    "    h.update(version + timestamp + iv + ct)\n",
    "    tag = h.finalize()\n",
    "    \n",
    "    # token\n",
    "    return base64.urlsafe_b64encode(version + timestamp + iv + ct + tag)    "
   ]
  },
  {
   "cell_type": "code",
   "execution_count": 50,
   "metadata": {
    "tags": []
   },
   "outputs": [],
   "source": [
    "def fernet_decrypt(key, token, ttl=None):\n",
    "    # unpack and decode keys\n",
    "    k_mac, k_enc = base64.urlsafe_b64decode(key)[:16], base64.urlsafe_b64decode(key)[16:]\n",
    "    \n",
    "    # token\n",
    "    token = base64.urlsafe_b64decode(token)\n",
    "    \n",
    "    version = token[0]\n",
    "    assert version == 128, \"Invalid version\"\n",
    "    \n",
    "    timestamp = int.from_bytes(token[1:9], byteorder='big') \n",
    "    if ttl:\n",
    "        assert int(time.time()) - timestamp > ttl, \"Maximum age expired\"\n",
    "    \n",
    "    # mac\n",
    "    h = hmac.HMAC(k_mac, hashes.SHA256()) # hmac\n",
    "    h.update(token[:-32])\n",
    "    h.verify(token[-32:])\n",
    "     \n",
    "    # decryption\n",
    "    iv = token[9:25]\n",
    "    ct = token[25:-32]\n",
    "    dec = Cipher(algorithms.AES(k_enc), modes.CBC(iv)).decryptor() # AES-CBC\n",
    "    pt = dec.update(ct) + dec.finalize()\n",
    "    \n",
    "    # remove pad\n",
    "    unpadder = padding.PKCS7(128).unpadder() # CBC padding\n",
    "    msg = unpadder.update(pt) + unpadder.finalize()\n",
    "    return msg"
   ]
  },
  {
   "cell_type": "code",
   "execution_count": 51,
   "metadata": {
    "tags": []
   },
   "outputs": [
    {
     "data": {
      "text/plain": [
       "b'Hello World! A very long message, surely more than a single block.'"
      ]
     },
     "execution_count": 51,
     "metadata": {},
     "output_type": "execute_result"
    }
   ],
   "source": [
    "key = fernet_gen_key()\n",
    "ct = fernet_encrypt(key, b\"Hello World! A very long message, surely more than a single block.\")\n",
    "fernet_decrypt(key, ct)"
   ]
  },
  {
   "cell_type": "code",
   "execution_count": 52,
   "metadata": {
    "tags": []
   },
   "outputs": [],
   "source": [
    "from cryptography.fernet import Fernet"
   ]
  },
  {
   "cell_type": "raw",
   "metadata": {
    "tags": []
   },
   "source": [
    "with open(\"data/fernet.key\", \"wb\") as h:\n",
    "    h.write(key)\n",
    "    \n",
    "with open(\"data/fernet.ct\", \"wb\") as h:\n",
    "    h.write(ct)"
   ]
  },
  {
   "cell_type": "code",
   "execution_count": 53,
   "metadata": {
    "tags": []
   },
   "outputs": [],
   "source": [
    "def load_java():\n",
    "    with open(\"data/fernet-java.key\", \"rb\") as h:\n",
    "        key = h.read()\n",
    "\n",
    "    with open(\"data/fernet-java.ct\", \"rb\") as h:\n",
    "        ct = h.read()\n",
    "        \n",
    "    return key, ct"
   ]
  },
  {
   "cell_type": "code",
   "execution_count": 56,
   "metadata": {
    "tags": []
   },
   "outputs": [
    {
     "data": {
      "text/plain": [
       "'Hello Wold! Tole je primer sporočila.'"
      ]
     },
     "execution_count": 56,
     "metadata": {},
     "output_type": "execute_result"
    }
   ],
   "source": [
    "key, ct = load_java()\n",
    "f = Fernet(key)\n",
    "f.decrypt(ct).decode(\"utf8\")"
   ]
  },
  {
   "cell_type": "code",
   "execution_count": null,
   "metadata": {},
   "outputs": [],
   "source": []
  }
 ],
 "metadata": {
  "kernelspec": {
   "display_name": "Python 3 (ipykernel)",
   "language": "python",
   "name": "python3"
  },
  "language_info": {
   "codemirror_mode": {
    "name": "ipython",
    "version": 3
   },
   "file_extension": ".py",
   "mimetype": "text/x-python",
   "name": "python",
   "nbconvert_exporter": "python",
   "pygments_lexer": "ipython3",
   "version": "3.10.12"
  }
 },
 "nbformat": 4,
 "nbformat_minor": 4
}
