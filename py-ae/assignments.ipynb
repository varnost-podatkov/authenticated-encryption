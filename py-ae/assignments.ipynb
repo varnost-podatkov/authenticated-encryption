{
 "cells": [
  {
   "cell_type": "markdown",
   "metadata": {},
   "source": [
    "# Overjeno šifriranje\n",
    "\n",
    "Demonstracija implementacije Fernet v Javi.\n",
    "\n",
    "Cilji laboratorijske vaje so sledeči:\n",
    "- Uporabi AES-GCM v Pythonu\n",
    "- Uporabi AES-GCM v Javi\n",
    "- Implementacija Phonebook v Pythonu\n",
    "- Branje phonebook v Javi\n",
    "- Implementacija Fernet v Pythonu"
   ]
  },
  {
   "cell_type": "code",
   "execution_count": 9,
   "metadata": {
    "tags": []
   },
   "outputs": [],
   "source": [
    "import os\n",
    "import time\n",
    "import base64\n",
    "\n",
    "from cryptography.hazmat.primitives.ciphers.aead import AESGCM\n",
    "from cryptography.hazmat.primitives import hashes\n",
    "from cryptography.hazmat.primitives.kdf.pbkdf2 import PBKDF2HMAC"
   ]
  },
  {
   "cell_type": "markdown",
   "metadata": {},
   "source": [
    "## Naloga 1: Overjeno šifriranje z AES-GCM\n",
    "Za ogrevanje implementirajmo funkciji `enc_gcm(key, pt, nonce)` in `dec_gcm(key, ct, nonce)`. Prva vrne tajnopis, druga čistopis. \n",
    "\n",
    "Za podrobnosti poglejte v [dokumentacijo AES-GCM.](https://cryptography.io/en/latest/hazmat/primitives/aead/#cryptography.hazmat.primitives.ciphers.aead.AESGCM)"
   ]
  },
  {
   "cell_type": "code",
   "execution_count": 2,
   "metadata": {
    "tags": []
   },
   "outputs": [],
   "source": [
    "def enc_gcm(key, pt, nonce):\n",
    "    return AESGCM(key).encrypt(nonce, pt, None)"
   ]
  },
  {
   "cell_type": "code",
   "execution_count": 3,
   "metadata": {
    "tags": []
   },
   "outputs": [],
   "source": [
    "def test_enc_gcm():\n",
    "    key = bytes.fromhex(\"cedaaa2d9f2418e79b5376971a857a1e\")\n",
    "    nonce = bytes.fromhex(\"622dbb32a4fd85a492081deeb982d805\")\n",
    "    message = b\"Hello World!\"\n",
    "    ct = bytes.fromhex(\"bbe99dd675e28ddc8cfe5c9cb2e7039431f03c767421d049d3e52d6f\")\n",
    "        \n",
    "    assert enc_gcm(key, message, nonce) == ct\n",
    "\n",
    "test_enc_gcm()    "
   ]
  },
  {
   "cell_type": "code",
   "execution_count": 4,
   "metadata": {
    "tags": []
   },
   "outputs": [],
   "source": [
    "def dec_gcm(key, ct, nonce):\n",
    "    return AESGCM(key).decrypt(nonce, ct, None)"
   ]
  },
  {
   "cell_type": "code",
   "execution_count": 6,
   "metadata": {},
   "outputs": [],
   "source": [
    "def test_dec_gcm():\n",
    "    key = bytes.fromhex(\"cedaaa2d9f2418e79b5376971a857a1e\")\n",
    "    nonce = bytes.fromhex(\"622dbb32a4fd85a492081deeb982d805\")\n",
    "    ct = bytes.fromhex(\"bbe99dd675e28ddc8cfe5c9cb2e7039431f03c767421d049d3e52d6f\")\n",
    "    message = b\"Hello World!\"\n",
    "    assert dec_gcm(key, ct, nonce) == message\n",
    "\n",
    "test_dec_gcm()    "
   ]
  },
  {
   "cell_type": "markdown",
   "metadata": {},
   "source": [
    "## Naloga 2: Overjeno šifriranje z AES-GCM v Javi\n",
    "\n",
    "Odprite Javanski projekt: mapa `java-ae`; najlažje, da z IntelliJ odprete datoteko `pom.xml` in ko vas program vpraša na kakšen način jo želite odpreti, izberete kot projekt.\n",
    "\n",
    "Za začetek si poglejte primer v datoteki `GCMExample.java`: v celoti vas vodi skozi primer uporabe šifre AES-GCM. Bodite pozorni:\n",
    "- kako ustvarimo ključ,\n",
    "- kako šifro instanciiramo,\n",
    "- kako jo inicializiramo,\n",
    "- kdaj se nastavi IV in kako ga preberemo,\n",
    "- kako IV izrecno nastavimo (npr. pri dešifriranju).\n",
    "\n",
    "Zatem implementirajte nalogo v datoteki `CommunicationExampleGCM.java`. V agentih uporabite šifro AES-GCM in z njo zavarujte sporočilo, ki ga Ana pošlje Boru. Ključ definirajte globalno v metodi `main(String[])`."
   ]
  },
  {
   "cell_type": "markdown",
   "metadata": {},
   "source": [
    "## Naloga 3: Izpeljava ključa iz gesla\n",
    "\n",
    "S pomočjo knjižnice cryptography implementirajte funkcijo `gen_key(password, salt, iterations)`, ki iz podanega gesla izpelje simetrični ključ s pomočjo algoritma PBKDF2.\n",
    "\n",
    "Argument `salt` naj bo naključna vrednost dolžine 16 bajtov, argument iterations pa število iteracij: privzeta vrednost argumenta naj bo milijon. Ustvarjen ključ naj bo dolg 16 bajtov. Za zgoščevalno funkcijo uporabite SHA256.\n",
    "\n",
    "Podrobnosti [poiščite v dokumentaciji.](https://cryptography.io/en/latest/hazmat/primitives/key-derivation-functions/#pbkdf2)"
   ]
  },
  {
   "cell_type": "code",
   "execution_count": 41,
   "metadata": {
    "tags": []
   },
   "outputs": [
    {
     "data": {
      "text/plain": [
       "b'\\x0c\\xaf*\\xf7\\x92\\x1d\\xb5fJ\\x935\\x1a\\xe9w\\x93\\x8a'"
      ]
     },
     "execution_count": 41,
     "metadata": {},
     "output_type": "execute_result"
    }
   ],
   "source": [
    "def gen_key(password, salt, iterations=1000000):\n",
    "    return PBKDF2HMAC(\n",
    "        algorithm=hashes.SHA256(), \n",
    "        length=16, \n",
    "        salt=salt, \n",
    "        iterations=iterations).derive(password.encode(\"utf8\"))\n",
    "\n",
    "gen_key(\"password1234\", os.urandom(16))"
   ]
  },
  {
   "cell_type": "code",
   "execution_count": 42,
   "metadata": {
    "tags": []
   },
   "outputs": [],
   "source": [
    "def test_gen_key():\n",
    "    assert gen_key(\"hunter2\", bytes.fromhex(\"e24701ca2d923d43e50a405ec718f3af\"), 1000).hex() == \"8c0ab28934ac682f98e73e6edf498de8\"\n",
    "    assert gen_key(\"hunter2\", bytes.fromhex(\"e24701ca2d923d43e50a405ec718f3af\")).hex() == \"0ffa82d350f20600bf865df0eebb5027\"\n",
    "\n",
    "test_gen_key()"
   ]
  },
  {
   "cell_type": "markdown",
   "metadata": {},
   "source": [
    "## Naloga 4: Zavarujte aplikacijo Telefonski imenik\n",
    "\n",
    "Aplikaciji Telefonski imenik v datoteki `pb.py` dodajte overjeno šifriranje, in sicer uporabite AES-GCM. Ključ za šifriranje izpeljite iz gesla. \n",
    "\n",
    "Podobno kot smo naredili pri 4. laboratorijski vaji, dodajte postopek šifriranja in dešifriranja zaporedoma v funkciji `save_phone_book(phone_book, file, password)` in `load_phone_book(file, password)`; obe funkciji spremenite tako, da bosta namesto argumenta `key`, vzeli argument `password`.\n",
    "\n",
    "Iz argumenta `password` nato s pomočjo algoritma PBKDF2 izpeljite ključ. Argument password preberite takoj ob zagonu programa in ga shranite v spremenljivko, ki jo lahko nato podate kot argument pri klicu funkcij `save_phone_book(phone_book, file, password)` in `load_phone_book(file, password)`.\n",
    "\n",
    "Pozor: tokrat boste morali v datoteko shraniti kar tri podatke: sol, IV in tajnopis, kjer slednji že vsebuje značko overitvene kode sporočila. Slednje lahko dosežete tako, da bajte, ki sestavljajo sol, IV in tajnopis konkatenirate in shranite v datoteko. Pri branju pa prebrano vsebino datoteke razpakirate v tri dele:\n",
    "- prvih 16 bajtov je sol,\n",
    "- drugih šestanjst bajtov je IV,\n",
    "- preostali bajti so tajnopis z značko overitvene kode sporočila.\n"
   ]
  },
  {
   "cell_type": "markdown",
   "metadata": {},
   "source": [
    "## Naloga 5: Preberite vsebino telefonskega imenika v Javi\n",
    "\n",
    "Sedaj v Javanskem projektu dokončajte implementacijo branja datoteke `data/phonebook.bin` v datoteki `ReadPhoneBookFile.java`.\n",
    "\n",
    "Cilj je zgolj prebrati, pravilno dešifrirati in na standardni izhod izpisati vsebino imenika tj. vsebino datoteke `data/phonebook.bin`. Ostalih funkcionalnosti aplikacije telefonskega imenika ni potrebno implementirati."
   ]
  },
  {
   "cell_type": "markdown",
   "metadata": {},
   "source": [
    "## Naloga 6: Implementacija šifre Fernet\n",
    "\n",
    "Implementirajte funkcije overjene šifre Fernet. Knižnica cryptography to implementacijo že ponuja, pri tej nalogi pa jo boste implementirali sami po podani specifikaciji. Omenjena naloga je odličen primer, kako v celoto povežete znanje o kodiranju informacij, šifriranju in overjanju sporočil.\n",
    "\n",
    "Viri:\n",
    "- [Implementacija Fernet v cryptography](https://cryptography.io/en/latest/fernet/)\n",
    "- [Specifikacija Fernet](https://github.com/fernet/spec/blob/master/Spec.md)"
   ]
  },
  {
   "cell_type": "code",
   "execution_count": null,
   "metadata": {
    "tags": []
   },
   "outputs": [],
   "source": [
    "def fernet_gen_key():\n",
    "    return base64.urlsafe_b64encode(os.urandom(32))"
   ]
  },
  {
   "cell_type": "code",
   "execution_count": null,
   "metadata": {
    "tags": []
   },
   "outputs": [],
   "source": [
    "def fernet_encrypt(key, message):\n",
    "    # unpack and decode keys\n",
    "    k_mac, k_enc = base64.urlsafe_b64decode(key)[:16], base64.urlsafe_b64decode(key)[16:]    \n",
    "    \n",
    "    version = (128).to_bytes(1, byteorder='big')\n",
    "    timestamp = int(time.time()).to_bytes(8, byteorder='big')\n",
    "    iv = os.urandom(16)\n",
    "            \n",
    "    # padding\n",
    "    padder = padding.PKCS7(128).padder() # CBC padding\n",
    "    padded_msg = padder.update(message) + padder.finalize()\n",
    "    \n",
    "    # encryption\n",
    "    enc = Cipher(algorithms.AES(k_enc), modes.CBC(iv)).encryptor() # AES-CBC\n",
    "    ct = enc.update(padded_msg) + enc.finalize()\n",
    "    \n",
    "    # mac\n",
    "    h = hmac.HMAC(k_mac, hashes.SHA256()) # hmac\n",
    "    h.update(version + timestamp + iv + ct)\n",
    "    tag = h.finalize()\n",
    "    \n",
    "    # token\n",
    "    return base64.urlsafe_b64encode(version + timestamp + iv + ct + tag)    "
   ]
  },
  {
   "cell_type": "code",
   "execution_count": null,
   "metadata": {
    "tags": []
   },
   "outputs": [],
   "source": [
    "def fernet_decrypt(key, token, ttl=None):\n",
    "    # unpack and decode keys\n",
    "    k_mac, k_enc = base64.urlsafe_b64decode(key)[:16], base64.urlsafe_b64decode(key)[16:]\n",
    "    \n",
    "    # token\n",
    "    token = base64.urlsafe_b64decode(token)\n",
    "    \n",
    "    version = token[0]\n",
    "    assert version == 128, \"Invalid version\"\n",
    "    \n",
    "    timestamp = int.from_bytes(token[1:9], byteorder='big') \n",
    "    if ttl:\n",
    "        assert int(time.time()) - timestamp > ttl, \"Maximum age expired\"\n",
    "    \n",
    "    # mac\n",
    "    h = hmac.HMAC(k_mac, hashes.SHA256()) # hmac\n",
    "    h.update(token[:-32])\n",
    "    h.verify(token[-32:])\n",
    "     \n",
    "    # decryption\n",
    "    iv = token[9:25]\n",
    "    ct = token[25:-32]\n",
    "    dec = Cipher(algorithms.AES(k_enc), modes.CBC(iv)).decryptor() # AES-CBC\n",
    "    pt = dec.update(ct) + dec.finalize()\n",
    "    \n",
    "    # remove pad\n",
    "    unpadder = padding.PKCS7(128).unpadder() # CBC padding\n",
    "    msg = unpadder.update(pt) + unpadder.finalize()\n",
    "    return msg"
   ]
  },
  {
   "cell_type": "code",
   "execution_count": null,
   "metadata": {
    "tags": []
   },
   "outputs": [],
   "source": [
    "key = fernet_gen_key()\n",
    "ct = fernet_encrypt(key, b\"Hello World! A very long message, surely more than a single block.\")\n",
    "fernet_decrypt(key, ct)"
   ]
  },
  {
   "cell_type": "code",
   "execution_count": 46,
   "metadata": {
    "tags": []
   },
   "outputs": [],
   "source": [
    "from cryptography.fernet import Fernet"
   ]
  },
  {
   "cell_type": "raw",
   "metadata": {
    "tags": []
   },
   "source": [
    "with open(\"data/fernet.key\", \"wb\") as h:\n",
    "    h.write(key)\n",
    "    \n",
    "with open(\"data/fernet.ct\", \"wb\") as h:\n",
    "    h.write(ct)"
   ]
  },
  {
   "cell_type": "code",
   "execution_count": 47,
   "metadata": {
    "tags": []
   },
   "outputs": [],
   "source": [
    "def load_java():\n",
    "    with open(\"../data/fernet-java.key\", \"rb\") as h:\n",
    "        key = h.read()\n",
    "\n",
    "    with open(\"../data/fernet-java.ct\", \"rb\") as h:\n",
    "        ct = h.read()\n",
    "        \n",
    "    return key, ct"
   ]
  },
  {
   "cell_type": "code",
   "execution_count": 48,
   "metadata": {
    "tags": []
   },
   "outputs": [
    {
     "data": {
      "text/plain": [
       "'Hello Wold! Tole je primer sporočila.'"
      ]
     },
     "execution_count": 48,
     "metadata": {},
     "output_type": "execute_result"
    }
   ],
   "source": [
    "key, ct = load_java()\n",
    "f = Fernet(key)\n",
    "f.decrypt(ct).decode(\"utf8\")"
   ]
  },
  {
   "cell_type": "raw",
   "metadata": {
    "tags": []
   },
   "source": [
    "with open(\"../data/gcm.key\", \"wb\") as h:\n",
    "    key = AESGCM.generate_key(bit_length=128)\n",
    "    h.write(key)"
   ]
  }
 ],
 "metadata": {
  "kernelspec": {
   "display_name": "Python 3 (ipykernel)",
   "language": "python",
   "name": "python3"
  },
  "language_info": {
   "codemirror_mode": {
    "name": "ipython",
    "version": 3
   },
   "file_extension": ".py",
   "mimetype": "text/x-python",
   "name": "python",
   "nbconvert_exporter": "python",
   "pygments_lexer": "ipython3",
   "version": "3.10.12"
  }
 },
 "nbformat": 4,
 "nbformat_minor": 4
}
