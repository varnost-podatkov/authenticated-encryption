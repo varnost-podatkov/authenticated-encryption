{
 "cells": [
  {
   "cell_type": "markdown",
   "metadata": {},
   "source": [
    "# Overjeno šifriranje\n",
    "\n",
    "Cilji laboratorijske vaje so sledeči:\n",
    "- TODO"
   ]
  },
  {
   "cell_type": "code",
   "execution_count": 1,
   "metadata": {
    "tags": []
   },
   "outputs": [],
   "source": [
    "import os\n",
    "import time\n",
    "import base64\n",
    "from cryptography.hazmat.primitives.ciphers import Cipher, algorithms, modes\n",
    "from cryptography.hazmat.primitives import hashes, hmac, padding\n",
    "from cryptography.hazmat.primitives.ciphers.aead import AESGCM"
   ]
  },
  {
   "cell_type": "code",
   "execution_count": 2,
   "metadata": {
    "tags": []
   },
   "outputs": [],
   "source": [
    "def fernet_gen_key():\n",
    "    return base64.urlsafe_b64encode(os.urandom(32))"
   ]
  },
  {
   "cell_type": "code",
   "execution_count": 3,
   "metadata": {
    "tags": []
   },
   "outputs": [],
   "source": [
    "def fernet_encrypt(key, message):\n",
    "    # unpack and decode keys\n",
    "    k_mac, k_enc = base64.urlsafe_b64decode(key)[:16], base64.urlsafe_b64decode(key)[16:]    \n",
    "    \n",
    "    version = (128).to_bytes(1, byteorder='big')\n",
    "    timestamp = int(time.time()).to_bytes(8, byteorder='big')\n",
    "    iv = os.urandom(16)\n",
    "            \n",
    "    # padding\n",
    "    padder = padding.PKCS7(128).padder() # CBC padding\n",
    "    padded_msg = padder.update(message) + padder.finalize()\n",
    "    \n",
    "    # encryption\n",
    "    enc = Cipher(algorithms.AES(k_enc), modes.CBC(iv)).encryptor() # AES-CBC\n",
    "    ct = enc.update(padded_msg) + enc.finalize()\n",
    "    \n",
    "    # mac\n",
    "    h = hmac.HMAC(k_mac, hashes.SHA256()) # hmac\n",
    "    h.update(version + timestamp + iv + ct)\n",
    "    tag = h.finalize()\n",
    "    \n",
    "    # token\n",
    "    return base64.urlsafe_b64encode(version + timestamp + iv + ct + tag)    "
   ]
  },
  {
   "cell_type": "code",
   "execution_count": 4,
   "metadata": {
    "tags": []
   },
   "outputs": [],
   "source": [
    "def fernet_decrypt(key, token, ttl=None):\n",
    "    # unpack and decode keys\n",
    "    k_mac, k_enc = base64.urlsafe_b64decode(key)[:16], base64.urlsafe_b64decode(key)[16:]\n",
    "    \n",
    "    # token\n",
    "    token = base64.urlsafe_b64decode(token)\n",
    "    \n",
    "    version = token[0]\n",
    "    assert version == 128, \"Invalid version\"\n",
    "    \n",
    "    timestamp = int.from_bytes(token[1:9], byteorder='big') \n",
    "    if ttl:\n",
    "        assert int(time.time()) - timestamp > ttl, \"Maximum age expired\"\n",
    "    \n",
    "    # mac\n",
    "    h = hmac.HMAC(k_mac, hashes.SHA256()) # hmac\n",
    "    h.update(token[:-32])\n",
    "    h.verify(token[-32:])\n",
    "     \n",
    "    # decryption\n",
    "    iv = token[9:25]\n",
    "    ct = token[25:-32]\n",
    "    dec = Cipher(algorithms.AES(k_enc), modes.CBC(iv)).decryptor() # AES-CBC\n",
    "    pt = dec.update(ct) + dec.finalize()\n",
    "    \n",
    "    # remove pad\n",
    "    unpadder = padding.PKCS7(128).unpadder() # CBC padding\n",
    "    msg = unpadder.update(pt) + unpadder.finalize()\n",
    "    return msg"
   ]
  },
  {
   "cell_type": "code",
   "execution_count": 5,
   "metadata": {
    "tags": []
   },
   "outputs": [
    {
     "data": {
      "text/plain": [
       "b'Hello World! A very long message, surely more than a single block.'"
      ]
     },
     "execution_count": 5,
     "metadata": {},
     "output_type": "execute_result"
    }
   ],
   "source": [
    "key = fernet_gen_key()\n",
    "ct = fernet_encrypt(key, b\"Hello World! A very long message, surely more than a single block.\")\n",
    "fernet_decrypt(key, ct)"
   ]
  },
  {
   "cell_type": "code",
   "execution_count": 6,
   "metadata": {
    "tags": []
   },
   "outputs": [],
   "source": [
    "from cryptography.fernet import Fernet"
   ]
  },
  {
   "cell_type": "raw",
   "metadata": {
    "tags": []
   },
   "source": [
    "with open(\"data/fernet.key\", \"wb\") as h:\n",
    "    h.write(key)\n",
    "    \n",
    "with open(\"data/fernet.ct\", \"wb\") as h:\n",
    "    h.write(ct)"
   ]
  },
  {
   "cell_type": "code",
   "execution_count": 9,
   "metadata": {
    "tags": []
   },
   "outputs": [],
   "source": [
    "def load_java():\n",
    "    with open(\"../data/fernet-java.key\", \"rb\") as h:\n",
    "        key = h.read()\n",
    "\n",
    "    with open(\"../data/fernet-java.ct\", \"rb\") as h:\n",
    "        ct = h.read()\n",
    "        \n",
    "    return key, ct"
   ]
  },
  {
   "cell_type": "code",
   "execution_count": 10,
   "metadata": {
    "tags": []
   },
   "outputs": [
    {
     "data": {
      "text/plain": [
       "'Hello Wold! Tole je primer sporočila.'"
      ]
     },
     "execution_count": 10,
     "metadata": {},
     "output_type": "execute_result"
    }
   ],
   "source": [
    "key, ct = load_java()\n",
    "f = Fernet(key)\n",
    "f.decrypt(ct).decode(\"utf8\")"
   ]
  },
  {
   "cell_type": "raw",
   "metadata": {
    "tags": []
   },
   "source": [
    "with open(\"../data/gcm.key\", \"wb\") as h:\n",
    "    key = AESGCM.generate_key(bit_length=128)\n",
    "    h.write(key)"
   ]
  },
  {
   "cell_type": "code",
   "execution_count": 14,
   "metadata": {
    "tags": []
   },
   "outputs": [
    {
     "data": {
      "text/plain": [
       "'e5777ed7a740e7ba224dad00125c3482'"
      ]
     },
     "execution_count": 14,
     "metadata": {},
     "output_type": "execute_result"
    }
   ],
   "source": [
    "key = AESGCM.generate_key(bit_length=128)\n",
    "key.hex()"
   ]
  },
  {
   "cell_type": "code",
   "execution_count": 15,
   "metadata": {
    "tags": []
   },
   "outputs": [],
   "source": [
    "from cryptography.hazmat.primitives import hashes\n",
    "from cryptography.hazmat.primitives.kdf.pbkdf2 import PBKDF2HMAC"
   ]
  },
  {
   "cell_type": "code",
   "execution_count": 18,
   "metadata": {
    "tags": []
   },
   "outputs": [
    {
     "data": {
      "text/plain": [
       "b'js\\xec\\x00<G > \\xde\\x8bu\\xaa\\x19\\xf8t\\xc4\\xf2\\x82\\xdd\\x9d\\xac=\\xde\\x115>\\x85/K`\\x84'"
      ]
     },
     "execution_count": 18,
     "metadata": {},
     "output_type": "execute_result"
    }
   ],
   "source": [
    "# Salts should be randomly generated\n",
    "salt = os.urandom(16)\n",
    "# derive\n",
    "kdf = PBKDF2HMAC(\n",
    "    algorithm=hashes.SHA256(),\n",
    "    length=32,\n",
    "    salt=salt,\n",
    "    iterations=480000,\n",
    ")\n",
    "key = kdf.derive(b\"hunter2\")\n",
    "key"
   ]
  }
 ],
 "metadata": {
  "kernelspec": {
   "display_name": "Python 3 (ipykernel)",
   "language": "python",
   "name": "python3"
  },
  "language_info": {
   "codemirror_mode": {
    "name": "ipython",
    "version": 3
   },
   "file_extension": ".py",
   "mimetype": "text/x-python",
   "name": "python",
   "nbconvert_exporter": "python",
   "pygments_lexer": "ipython3",
   "version": "3.10.12"
  }
 },
 "nbformat": 4,
 "nbformat_minor": 4
}
